{
 "cells": [
  {
   "cell_type": "code",
   "execution_count": null,
   "metadata": {},
   "outputs": [],
   "source": [
    "# import everything\n",
    "import matplotlib.pyplot as plt\n",
    "from tensorflow import keras\n",
    "import tensorflow as tf\n",
    "import numpy as np\n",
    "\n",
    "np.random.seed(1)\n",
    "tf.random.set_seed(1)"
   ]
  },
  {
   "cell_type": "code",
   "execution_count": null,
   "metadata": {},
   "outputs": [],
   "source": [
    "# load the data from numpy objects\n",
    "X_train = np.load('../my_dataset/X_train.npy')\n",
    "X_test = np.load('../my_dataset/X_test.npy')\n",
    "X_validate = np.load('../my_dataset/X_validate.npy')\n",
    "\n",
    "y_train = np.load('../my_dataset/y_train.npy')\n",
    "y_test = np.load('../my_dataset/y_test.npy')\n",
    "y_validate = np.load('../my_dataset/y_validate.npy')\n",
    "\n",
    "test_labels = np.load('../labels_and_paths/test_labels.npy')\n",
    "model_dictionary = np.load('../labels_and_paths/model_dictionary.npy')"
   ]
  },
  {
   "cell_type": "code",
   "execution_count": null,
   "metadata": {},
   "outputs": [],
   "source": [
    "NAME = \"model-3-batch-128\"\n",
    "\n",
    "model = keras.models.load_model(NAME)\n",
    "accuracy_val = round(model.evaluate(X_validate, y_validate)[1] * 100, 2)\n",
    "accuracy_test = round(model.evaluate(X_test, y_test)[1] * 100, 2)\n",
    "predictions = model.predict(X_test)\n",
    "\n",
    "print(\"Model accuracy (Validation): \" + str(accuracy_val) + \" %\")\n",
    "print(\"Model accuracy (Test): \" + str(accuracy_test) + \" %\")\n",
    "\n",
    "for i in range(20):\n",
    "    print(f\"Image label: {test_labels[i]}\")\n",
    "    print(f\"Model prediction: {model_dictionary[np.argmax(predictions[i])]}\")\n",
    "    plt.imshow(X_test[i], cmap='gray')  # graph it\n",
    "    plt.show()"
   ]
  },
  {
   "cell_type": "code",
   "execution_count": null,
   "metadata": {},
   "outputs": [],
   "source": [
    "NAME = \"model-3-batch-128\"\n",
    "\n",
    "model = tf.keras.models.load_model(NAME)\n",
    "\n",
    "model.summary()"
   ]
  }
 ],
 "metadata": {
  "kernelspec": {
   "display_name": "Python 3.9.7 64-bit",
   "language": "python",
   "name": "python3"
  },
  "language_info": {
   "codemirror_mode": {
    "name": "ipython",
    "version": 3
   },
   "file_extension": ".py",
   "mimetype": "text/x-python",
   "name": "python",
   "nbconvert_exporter": "python",
   "pygments_lexer": "ipython3",
   "version": "3.9.7"
  },
  "orig_nbformat": 4,
  "vscode": {
   "interpreter": {
    "hash": "99aa377fbfe6babaa8f85c06716341a20688fb45a5f56fcc96594486c2d6abfd"
   }
  }
 },
 "nbformat": 4,
 "nbformat_minor": 2
}
